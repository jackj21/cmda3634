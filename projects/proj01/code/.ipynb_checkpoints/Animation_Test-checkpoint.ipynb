{
 "cells": [
  {
   "cell_type": "code",
   "execution_count": null,
   "metadata": {},
   "outputs": [],
   "source": [
    "%matplotlib notebook\n",
    "import numpy as np\n",
    "import matplotlib.pyplot as plt\n",
    "import mpl_toolkits.mplot3d.axes3d as p3\n",
    "\n",
    "from IPython.display import HTML\n",
    "import matplotlib.animation as animation"
   ]
  },
  {
   "cell_type": "code",
   "execution_count": null,
   "metadata": {},
   "outputs": [],
   "source": [
    "def animate_wave_simulation_2D(U):\n",
    "\n",
    "    fig = plt.figure()\n",
    "\n",
    "    cmin, cmax = U[0].min(), U[0].max()\n",
    "    for u in U:\n",
    "        cmin = min(cmin, u.min())\n",
    "        cmax = max(cmax, u.max())\n",
    "\n",
    "    cmin = max(-1, cmin)\n",
    "    cmax = min(1, cmax)\n",
    "\n",
    "    im = plt.imshow(U[0], clim=(cmin,cmax), cmap='gray')\n",
    "    def animate(i):\n",
    "        im.set_data(U[i])\n",
    "        return (im,)\n",
    "\n",
    "    ani = animation.FuncAnimation(fig, animate, interval=50, repeat_delay=1000)\n",
    "\n",
    "    return ani"
   ]
  },
  {
   "cell_type": "code",
   "execution_count": null,
   "metadata": {},
   "outputs": [],
   "source": [
    "xy = np.linspace(0,4*3.14159,50)\n",
    "XX, YY = np.meshgrid(xy, xy)\n",
    "\n",
    "vals = []\n",
    "\n",
    "for t in np.linspace(0,1,150):\n",
    "    vals.append(np.sin(t*XX)*np.cos(t*YY))\n",
    "\n",
    "for t in np.linspace(1,0,150):\n",
    "    vals.append(np.sin(t*XX)*np.cos(t*YY))\n"
   ]
  },
  {
   "cell_type": "code",
   "execution_count": null,
   "metadata": {},
   "outputs": [],
   "source": [
    "animate_wave_simulation_2D(vals)"
   ]
  }
 ],
 "metadata": {
  "kernelspec": {
   "display_name": "Python 3",
   "language": "python",
   "name": "python3"
  },
  "language_info": {
   "codemirror_mode": {
    "name": "ipython",
    "version": 3
   },
   "file_extension": ".py",
   "mimetype": "text/x-python",
   "name": "python",
   "nbconvert_exporter": "python",
   "pygments_lexer": "ipython3",
   "version": "3.8.5"
  }
 },
 "nbformat": 4,
 "nbformat_minor": 4
}

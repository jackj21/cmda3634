{
 "cells": [
  {
   "cell_type": "code",
   "execution_count": 1,
   "metadata": {},
   "outputs": [],
   "source": [
    "# Code for project 1\n",
    "# Jack Jiang\n",
    "# CMDA 3634\n",
    "\n",
    "import numpy as np"
   ]
  },
  {
   "cell_type": "code",
   "execution_count": null,
   "metadata": {},
   "outputs": [],
   "source": [
    "# Evaluates the standing wave equation\n",
    "# omega to the wave equation u_k.\n",
    "#\n",
    "# Parameters:\n",
    "#     array = an existing numpy array of size nxn\n",
    "#     t = current time in the simulation\n",
    "#     m_x, m_y = number of nodes in standing wave\n",
    "#\n",
    "# Returns:\n",
    "#     The computed wave equation on the computational grid.\n",
    "def to_wave_equation(array, t, m_x, m_y):\n",
    "    for (y in array):\n",
    "        for (x in y):\n",
    "            omega = np.pi * sqrt((m_x)**2 + (m__y)**2)\n",
    "            u_k = np.sin(m_x * np.pi * x) * np.sin(m_y * np.pi * y) * np.cos(omega * t)\n",
    "    return u_k    # return \n",
    "    "
   ]
  },
  {
   "cell_type": "code",
   "execution_count": null,
   "metadata": {},
   "outputs": [],
   "source": [
    "# Checks if a coordinate is a boundary point.\n",
    "#\n",
    "# Parameters:\n",
    "#     array = an existing numpy array of size nxn\n",
    "#     n = length/width of square grid nxn\n",
    "#     x = x-coordinate of point\n",
    "#     y = y-coordinate of point\n",
    "#\n",
    "# Returns:\n",
    "#     True if coordinate is a boundary point, false otherwise.\n",
    "def boundary_check(array, n, x, y):\n",
    "    \n",
    "\n",
    "# Computes one time step of the\n",
    "# wave equation simulation.\n",
    "#\n",
    "# Parameters:\n",
    "#     array = an existing numpy array of size nxn\n",
    "#     t = current time in the simulation\n",
    "#     m_x, m_y = number of nodes in standing wave\n",
    "#\n",
    "# Returns:\n",
    "#     A computed time step of the wave equation simulation.\n",
    "def timestep(array):\n",
    "    u_kprev = ...\n",
    "    u_k = ...\n",
    "    for (y in array):\n",
    "        for (x in y):\n",
    "            if (boundary_check):\n",
    "                u_knext = 0\n",
    "            else:\n",
    "                lap =             # equation 5 to calculate Laplacian\n",
    "                u_knext = -u_kprev + 2*u_k + (dt^2 * lap)"
   ]
  },
  {
   "cell_type": "code",
   "execution_count": null,
   "metadata": {},
   "outputs": [],
   "source": [
    "# Computes and returns n_t iterations of the simulation.\n",
    "#\n",
    "# Parameters:\n",
    "#     T = final simulation time\n",
    "#     n = grid size of the computational grid\n",
    "#     m_x, m_y = number of stationary nodes\n",
    "# Returns:\n",
    "#     n_t iterations of the simulation.\n",
    "def simulate(T, n, m_x, m_y):\n",
    "    alpha = 1\n",
    "    dx = 1 / (n - 1)\n",
    "    dt = (alpha * dx) / np.sqrt(2)\n",
    "    \n"
   ]
  }
 ],
 "metadata": {
  "kernelspec": {
   "display_name": "Python 3",
   "language": "python",
   "name": "python3"
  },
  "language_info": {
   "codemirror_mode": {
    "name": "ipython",
    "version": 3
   },
   "file_extension": ".py",
   "mimetype": "text/x-python",
   "name": "python",
   "nbconvert_exporter": "python",
   "pygments_lexer": "ipython3",
   "version": "3.8.6"
  }
 },
 "nbformat": 4,
 "nbformat_minor": 4
}
